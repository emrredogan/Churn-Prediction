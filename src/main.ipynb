{
 "cells": [
  {
   "cell_type": "markdown",
   "metadata": {},
   "source": [
    "## Import Libraries"
   ]
  },
  {
   "cell_type": "code",
   "execution_count": 1,
   "metadata": {},
   "outputs": [
    {
     "name": "stderr",
     "output_type": "stream",
     "text": [
      "C:\\Users\\yemre\\AppData\\Roaming\\Python\\Python310\\site-packages\\tqdm\\auto.py:21: TqdmWarning: IProgress not found. Please update jupyter and ipywidgets. See https://ipywidgets.readthedocs.io/en/stable/user_install.html\n",
      "  from .autonotebook import tqdm as notebook_tqdm\n"
     ]
    }
   ],
   "source": [
    "import sys \n",
    "sys.path.append('C:/Users/yemre/Masaüstü/Data_Science_Projects/Churn_Prediction/src')\n",
    "\n",
    "import pandas as pd \n",
    "import numpy as np\n",
    "\n",
    "from data_analysis import DataAnalysis\n",
    "from data_preprocessor import Preprocessor\n",
    "from dataloader import DataLoader\n",
    "from model_trainer import *\n",
    "from model_evaluator import *\n",
    "\n",
    "\n",
    "import xgboost as xgb \n",
    "from sklearn.ensemble import RandomForestClassifier\n",
    "from sklearn.linear_model import LogisticRegression\n",
    "\n",
    "\n",
    "import warnings\n",
    "warnings.filterwarnings(\"ignore\")\n",
    "pd.set_option('display.max_columns', None)\n",
    "pd.set_option('display.max_rows', None)\n"
   ]
  },
  {
   "cell_type": "markdown",
   "metadata": {},
   "source": [
    "## Load data and Preprocessing"
   ]
  },
  {
   "cell_type": "markdown",
   "metadata": {},
   "source": [
    "#"
   ]
  },
  {
   "cell_type": "code",
   "execution_count": 2,
   "metadata": {},
   "outputs": [
    {
     "name": "stdout",
     "output_type": "stream",
     "text": [
      "Data loaded from file path ../data/dataset.csv\n"
     ]
    }
   ],
   "source": [
    "data = DataLoader.get_data('../data/dataset.csv')"
   ]
  },
  {
   "cell_type": "code",
   "execution_count": 3,
   "metadata": {},
   "outputs": [
    {
     "name": "stdout",
     "output_type": "stream",
     "text": [
      "data shape is (7043, 21)\n"
     ]
    }
   ],
   "source": [
    "print(f\"data shape is {data.shape}\")"
   ]
  },
  {
   "cell_type": "markdown",
   "metadata": {},
   "source": [
    "## Categorize Columns"
   ]
  },
  {
   "cell_type": "code",
   "execution_count": 4,
   "metadata": {},
   "outputs": [
    {
     "name": "stdout",
     "output_type": "stream",
     "text": [
      "Starting categorize columns...\n",
      "numeric cols: \n",
      "['SeniorCitizen', 'tenure', 'MonthlyCharges']\n",
      "**************************************************\n",
      "categoric cols: \n",
      "['customerID', 'gender', 'Partner', 'Dependents', 'PhoneService', 'MultipleLines', 'InternetService', 'OnlineSecurity', 'OnlineBackup', 'DeviceProtection', 'TechSupport', 'StreamingTV', 'StreamingMovies', 'Contract', 'PaperlessBilling', 'PaymentMethod', 'TotalCharges', 'Churn']\n",
      "**************************************************\n",
      "date cols: \n",
      "[]\n"
     ]
    }
   ],
   "source": [
    "numeric_cols, categoric_cols, date_cols = DataAnalysis.categorize_columns(data=data)\n",
    "print(f\"numeric cols: \\n{numeric_cols}\")\n",
    "print(\"*\"*50)\n",
    "print(f\"categoric cols: \\n{categoric_cols}\")\n",
    "print(\"*\"*50)\n",
    "print(f\"date cols: \\n{date_cols}\")"
   ]
  },
  {
   "cell_type": "code",
   "execution_count": 5,
   "metadata": {},
   "outputs": [
    {
     "name": "stdout",
     "output_type": "stream",
     "text": [
      "SeniorCitizen type is int64\n",
      "Check the first 3 rows of the column: \n",
      "0    0\n",
      "1    0\n",
      "2    0\n",
      "Name: SeniorCitizen, dtype: int64\n",
      "tenure type is int64\n",
      "Check the first 3 rows of the column: \n",
      "0     1\n",
      "1    34\n",
      "2     2\n",
      "Name: tenure, dtype: int64\n",
      "MonthlyCharges type is float64\n",
      "Check the first 3 rows of the column: \n",
      "0    29.85\n",
      "1    56.95\n",
      "2    53.85\n",
      "Name: MonthlyCharges, dtype: float64\n"
     ]
    }
   ],
   "source": [
    "DataAnalysis.check_dtype_cols(data=data, col_types_list=numeric_cols)"
   ]
  },
  {
   "cell_type": "code",
   "execution_count": 6,
   "metadata": {},
   "outputs": [
    {
     "name": "stdout",
     "output_type": "stream",
     "text": [
      "customerID type is object\n",
      "Check the first 3 rows of the column: \n",
      "0    7590-VHVEG\n",
      "1    5575-GNVDE\n",
      "2    3668-QPYBK\n",
      "Name: customerID, dtype: object\n",
      "gender type is object\n",
      "Check the first 3 rows of the column: \n",
      "0    Female\n",
      "1      Male\n",
      "2      Male\n",
      "Name: gender, dtype: object\n",
      "Partner type is object\n",
      "Check the first 3 rows of the column: \n",
      "0    Yes\n",
      "1     No\n",
      "2     No\n",
      "Name: Partner, dtype: object\n",
      "Dependents type is object\n",
      "Check the first 3 rows of the column: \n",
      "0    No\n",
      "1    No\n",
      "2    No\n",
      "Name: Dependents, dtype: object\n",
      "PhoneService type is object\n",
      "Check the first 3 rows of the column: \n",
      "0     No\n",
      "1    Yes\n",
      "2    Yes\n",
      "Name: PhoneService, dtype: object\n",
      "MultipleLines type is object\n",
      "Check the first 3 rows of the column: \n",
      "0    No phone service\n",
      "1                  No\n",
      "2                  No\n",
      "Name: MultipleLines, dtype: object\n",
      "InternetService type is object\n",
      "Check the first 3 rows of the column: \n",
      "0    DSL\n",
      "1    DSL\n",
      "2    DSL\n",
      "Name: InternetService, dtype: object\n",
      "OnlineSecurity type is object\n",
      "Check the first 3 rows of the column: \n",
      "0     No\n",
      "1    Yes\n",
      "2    Yes\n",
      "Name: OnlineSecurity, dtype: object\n",
      "OnlineBackup type is object\n",
      "Check the first 3 rows of the column: \n",
      "0    Yes\n",
      "1     No\n",
      "2    Yes\n",
      "Name: OnlineBackup, dtype: object\n",
      "DeviceProtection type is object\n",
      "Check the first 3 rows of the column: \n",
      "0     No\n",
      "1    Yes\n",
      "2     No\n",
      "Name: DeviceProtection, dtype: object\n",
      "TechSupport type is object\n",
      "Check the first 3 rows of the column: \n",
      "0    No\n",
      "1    No\n",
      "2    No\n",
      "Name: TechSupport, dtype: object\n",
      "StreamingTV type is object\n",
      "Check the first 3 rows of the column: \n",
      "0    No\n",
      "1    No\n",
      "2    No\n",
      "Name: StreamingTV, dtype: object\n",
      "StreamingMovies type is object\n",
      "Check the first 3 rows of the column: \n",
      "0    No\n",
      "1    No\n",
      "2    No\n",
      "Name: StreamingMovies, dtype: object\n",
      "Contract type is object\n",
      "Check the first 3 rows of the column: \n",
      "0    Month-to-month\n",
      "1          One year\n",
      "2    Month-to-month\n",
      "Name: Contract, dtype: object\n",
      "PaperlessBilling type is object\n",
      "Check the first 3 rows of the column: \n",
      "0    Yes\n",
      "1     No\n",
      "2    Yes\n",
      "Name: PaperlessBilling, dtype: object\n",
      "PaymentMethod type is object\n",
      "Check the first 3 rows of the column: \n",
      "0    Electronic check\n",
      "1        Mailed check\n",
      "2        Mailed check\n",
      "Name: PaymentMethod, dtype: object\n",
      "TotalCharges type is object\n",
      "Check the first 3 rows of the column: \n",
      "0     29.85\n",
      "1    1889.5\n",
      "2    108.15\n",
      "Name: TotalCharges, dtype: object\n",
      "Churn type is object\n",
      "Check the first 3 rows of the column: \n",
      "0     No\n",
      "1     No\n",
      "2    Yes\n",
      "Name: Churn, dtype: object\n"
     ]
    }
   ],
   "source": [
    "DataAnalysis.check_dtype_cols(data=data, col_types_list=categoric_cols)"
   ]
  },
  {
   "cell_type": "code",
   "execution_count": 7,
   "metadata": {},
   "outputs": [],
   "source": [
    "# Total Charges column has a object data type but it is numerical data, so let's change data type for this column.\n",
    "data['TotalCharges'] = pd.to_numeric(data['TotalCharges'], errors='coerce')\n",
    "\n",
    "# Add TotalCharges in numeric list and remove it from categoric list\n",
    "numeric_cols.append('TotalCharges')\n",
    "categoric_cols.remove('TotalCharges')"
   ]
  },
  {
   "cell_type": "markdown",
   "metadata": {},
   "source": [
    "## Descriptive Stats and Distributions for Numeric Features"
   ]
  },
  {
   "cell_type": "code",
   "execution_count": 8,
   "metadata": {},
   "outputs": [
    {
     "data": {
      "text/html": [
       "<div>\n",
       "<style scoped>\n",
       "    .dataframe tbody tr th:only-of-type {\n",
       "        vertical-align: middle;\n",
       "    }\n",
       "\n",
       "    .dataframe tbody tr th {\n",
       "        vertical-align: top;\n",
       "    }\n",
       "\n",
       "    .dataframe thead th {\n",
       "        text-align: right;\n",
       "    }\n",
       "</style>\n",
       "<table border=\"1\" class=\"dataframe\">\n",
       "  <thead>\n",
       "    <tr style=\"text-align: right;\">\n",
       "      <th></th>\n",
       "      <th>Feature_Name</th>\n",
       "      <th>Count</th>\n",
       "      <th>Missing_Count</th>\n",
       "      <th>Missing_Percentage</th>\n",
       "      <th>Min</th>\n",
       "      <th>Max</th>\n",
       "      <th>Std</th>\n",
       "      <th>25P</th>\n",
       "      <th>50P</th>\n",
       "      <th>75P</th>\n",
       "      <th>95P</th>\n",
       "    </tr>\n",
       "  </thead>\n",
       "  <tbody>\n",
       "    <tr>\n",
       "      <th>0</th>\n",
       "      <td>SeniorCitizen</td>\n",
       "      <td>7043</td>\n",
       "      <td>0</td>\n",
       "      <td>0.0</td>\n",
       "      <td>0</td>\n",
       "      <td>1</td>\n",
       "      <td>0.368612</td>\n",
       "      <td>0.0</td>\n",
       "      <td>0.0</td>\n",
       "      <td>0.0</td>\n",
       "      <td>1.0</td>\n",
       "    </tr>\n",
       "    <tr>\n",
       "      <th>1</th>\n",
       "      <td>tenure</td>\n",
       "      <td>7043</td>\n",
       "      <td>0</td>\n",
       "      <td>0.0</td>\n",
       "      <td>0</td>\n",
       "      <td>72</td>\n",
       "      <td>24.559481</td>\n",
       "      <td>9.0</td>\n",
       "      <td>29.0</td>\n",
       "      <td>55.0</td>\n",
       "      <td>72.0</td>\n",
       "    </tr>\n",
       "    <tr>\n",
       "      <th>2</th>\n",
       "      <td>MonthlyCharges</td>\n",
       "      <td>7043</td>\n",
       "      <td>0</td>\n",
       "      <td>0.0</td>\n",
       "      <td>18.25</td>\n",
       "      <td>118.75</td>\n",
       "      <td>30.090047</td>\n",
       "      <td>35.5</td>\n",
       "      <td>70.35</td>\n",
       "      <td>89.85</td>\n",
       "      <td>107.4</td>\n",
       "    </tr>\n",
       "    <tr>\n",
       "      <th>3</th>\n",
       "      <td>TotalCharges</td>\n",
       "      <td>7032</td>\n",
       "      <td>11</td>\n",
       "      <td>0.001562</td>\n",
       "      <td>18.8</td>\n",
       "      <td>8684.8</td>\n",
       "      <td>2266.771362</td>\n",
       "      <td>401.45</td>\n",
       "      <td>1397.475</td>\n",
       "      <td>3794.7375</td>\n",
       "      <td>6923.59</td>\n",
       "    </tr>\n",
       "  </tbody>\n",
       "</table>\n",
       "</div>"
      ],
      "text/plain": [
       "     Feature_Name Count Missing_Count Missing_Percentage    Min     Max  \\\n",
       "0   SeniorCitizen  7043             0                0.0      0       1   \n",
       "1          tenure  7043             0                0.0      0      72   \n",
       "2  MonthlyCharges  7043             0                0.0  18.25  118.75   \n",
       "3    TotalCharges  7032            11           0.001562   18.8  8684.8   \n",
       "\n",
       "           Std     25P       50P        75P      95P  \n",
       "0     0.368612     0.0       0.0        0.0      1.0  \n",
       "1    24.559481     9.0      29.0       55.0     72.0  \n",
       "2    30.090047    35.5     70.35      89.85    107.4  \n",
       "3  2266.771362  401.45  1397.475  3794.7375  6923.59  "
      ]
     },
     "execution_count": 8,
     "metadata": {},
     "output_type": "execute_result"
    }
   ],
   "source": [
    "#Check Descriptive Stats for Numeric Columns\n",
    "DataAnalysis.descriptive_stats_for_numeric_cols(data=data.loc[:,numeric_cols])"
   ]
  },
  {
   "cell_type": "code",
   "execution_count": 9,
   "metadata": {},
   "outputs": [
    {
     "data": {
      "image/png": "[encoded data removed]",
      "text/plain": [
       "<Figure size 432x288 with 1 Axes>"
      ]
     },
     "metadata": {
      "needs_background": "light"
     },
     "output_type": "display_data"
    },
    {
     "data": {
      "image/png": "[encoded data removed]",
      "text/plain": [
       "<Figure size 432x288 with 1 Axes>"
      ]
     },
     "metadata": {
      "needs_background": "light"
     },
     "output_type": "display_data"
    },
    {
     "data": {
      "image/png": "[encoded data removed]",
      "text/plain": [
       "<Figure size 432x288 with 1 Axes>"
      ]
     },
     "metadata": {
      "needs_background": "light"
     },
     "output_type": "display_data"
    }
   ],
   "source": [
    "DataAnalysis.plot_boxplot(data=data, feature_name='tenure')\n",
    "DataAnalysis.plot_boxplot(data=data, feature_name='MonthlyCharges')\n",
    "DataAnalysis.plot_boxplot(data=data, feature_name='TotalCharges')"
   ]
  },
  {
   "cell_type": "markdown",
   "metadata": {},
   "source": [
    "Tenure, MonthlyCharges, and TotalCharges have outliers. Should determine outlier values and fix them, especially for logistic regression."
   ]
  },
  {
   "cell_type": "code",
   "execution_count": 10,
   "metadata": {},
   "outputs": [
    {
     "data": {
      "image/png": "[encoded data removed]",
      "text/plain": [
       "<Figure size 432x288 with 1 Axes>"
      ]
     },
     "metadata": {
      "needs_background": "light"
     },
     "output_type": "display_data"
    },
    {
     "data": {
      "image/png": "[encoded data removed]",
      "text/plain": [
       "<Figure size 432x288 with 1 Axes>"
      ]
     },
     "metadata": {
      "needs_background": "light"
     },
     "output_type": "display_data"
    },
    {
     "data": {
      "image/png": "[encoded data removed]",
      "text/plain": [
       "<Figure size 432x288 with 1 Axes>"
      ]
     },
     "metadata": {
      "needs_background": "light"
     },
     "output_type": "display_data"
    }
   ],
   "source": [
    "DataAnalysis.plot_histogram(data=data, feature_name='tenure')\n",
    "DataAnalysis.plot_histogram(data=data, feature_name='MonthlyCharges')\n",
    "DataAnalysis.plot_histogram(data=data, feature_name='TotalCharges')"
   ]
  },
  {
   "cell_type": "markdown",
   "metadata": {},
   "source": [
    "All of the three numeric features have skewness. Especially TotalCharges is very skewed. "
   ]
  },
  {
   "cell_type": "markdown",
   "metadata": {},
   "source": [
    "## Analysis for Categoric Features"
   ]
  },
  {
   "cell_type": "code",
   "execution_count": 11,
   "metadata": {},
   "outputs": [
    {
     "data": {
      "text/html": [
       "<div>\n",
       "<style scoped>\n",
       "    .dataframe tbody tr th:only-of-type {\n",
       "        vertical-align: middle;\n",
       "    }\n",
       "\n",
       "    .dataframe tbody tr th {\n",
       "        vertical-align: top;\n",
       "    }\n",
       "\n",
       "    .dataframe thead th {\n",
       "        text-align: right;\n",
       "    }\n",
       "</style>\n",
       "<table border=\"1\" class=\"dataframe\">\n",
       "  <thead>\n",
       "    <tr style=\"text-align: right;\">\n",
       "      <th></th>\n",
       "      <th>Feature_Name</th>\n",
       "      <th>Count</th>\n",
       "      <th>Missing_Count</th>\n",
       "      <th>Missing_Percentage</th>\n",
       "      <th>Value_Counts</th>\n",
       "      <th>Number_Of_Unique</th>\n",
       "      <th>Mode</th>\n",
       "    </tr>\n",
       "  </thead>\n",
       "  <tbody>\n",
       "    <tr>\n",
       "      <th>0</th>\n",
       "      <td>customerID</td>\n",
       "      <td>7043</td>\n",
       "      <td>0</td>\n",
       "      <td>0.0</td>\n",
       "      <td>7590-VHVEG    1\n",
       "3791-LGQCY    1\n",
       "6008-NAIXK    ...</td>\n",
       "      <td>7043</td>\n",
       "      <td>0002-ORFBO</td>\n",
       "    </tr>\n",
       "    <tr>\n",
       "      <th>1</th>\n",
       "      <td>gender</td>\n",
       "      <td>7043</td>\n",
       "      <td>0</td>\n",
       "      <td>0.0</td>\n",
       "      <td>Male      3555\n",
       "Female    3488\n",
       "Name: gender, dt...</td>\n",
       "      <td>2</td>\n",
       "      <td>Male</td>\n",
       "    </tr>\n",
       "    <tr>\n",
       "      <th>2</th>\n",
       "      <td>Partner</td>\n",
       "      <td>7043</td>\n",
       "      <td>0</td>\n",
       "      <td>0.0</td>\n",
       "      <td>No     3641\n",
       "Yes    3402\n",
       "Name: Partner, dtype: ...</td>\n",
       "      <td>2</td>\n",
       "      <td>No</td>\n",
       "    </tr>\n",
       "    <tr>\n",
       "      <th>3</th>\n",
       "      <td>Dependents</td>\n",
       "      <td>7043</td>\n",
       "      <td>0</td>\n",
       "      <td>0.0</td>\n",
       "      <td>No     4933\n",
       "Yes    2110\n",
       "Name: Dependents, dtyp...</td>\n",
       "      <td>2</td>\n",
       "      <td>No</td>\n",
       "    </tr>\n",
       "    <tr>\n",
       "      <th>4</th>\n",
       "      <td>PhoneService</td>\n",
       "      <td>7043</td>\n",
       "      <td>0</td>\n",
       "      <td>0.0</td>\n",
       "      <td>Yes    6361\n",
       "No      682\n",
       "Name: PhoneService, dt...</td>\n",
       "      <td>2</td>\n",
       "      <td>Yes</td>\n",
       "    </tr>\n",
       "    <tr>\n",
       "      <th>5</th>\n",
       "      <td>MultipleLines</td>\n",
       "      <td>7043</td>\n",
       "      <td>0</td>\n",
       "      <td>0.0</td>\n",
       "      <td>No                  3390\n",
       "Yes                 2...</td>\n",
       "      <td>3</td>\n",
       "      <td>No</td>\n",
       "    </tr>\n",
       "    <tr>\n",
       "      <th>6</th>\n",
       "      <td>InternetService</td>\n",
       "      <td>7043</td>\n",
       "      <td>0</td>\n",
       "      <td>0.0</td>\n",
       "      <td>Fiber optic    3096\n",
       "DSL            2421\n",
       "No    ...</td>\n",
       "      <td>3</td>\n",
       "      <td>Fiber optic</td>\n",
       "    </tr>\n",
       "    <tr>\n",
       "      <th>7</th>\n",
       "      <td>OnlineSecurity</td>\n",
       "      <td>7043</td>\n",
       "      <td>0</td>\n",
       "      <td>0.0</td>\n",
       "      <td>No                     3498\n",
       "Yes               ...</td>\n",
       "      <td>3</td>\n",
       "      <td>No</td>\n",
       "    </tr>\n",
       "    <tr>\n",
       "      <th>8</th>\n",
       "      <td>OnlineBackup</td>\n",
       "      <td>7043</td>\n",
       "      <td>0</td>\n",
       "      <td>0.0</td>\n",
       "      <td>No                     3088\n",
       "Yes               ...</td>\n",
       "      <td>3</td>\n",
       "      <td>No</td>\n",
       "    </tr>\n",
       "    <tr>\n",
       "      <th>9</th>\n",
       "      <td>DeviceProtection</td>\n",
       "      <td>7043</td>\n",
       "      <td>0</td>\n",
       "      <td>0.0</td>\n",
       "      <td>No                     3095\n",
       "Yes               ...</td>\n",
       "      <td>3</td>\n",
       "      <td>No</td>\n",
       "    </tr>\n",
       "    <tr>\n",
       "      <th>10</th>\n",
       "      <td>TechSupport</td>\n",
       "      <td>7043</td>\n",
       "      <td>0</td>\n",
       "      <td>0.0</td>\n",
       "      <td>No                     3473\n",
       "Yes               ...</td>\n",
       "      <td>3</td>\n",
       "      <td>No</td>\n",
       "    </tr>\n",
       "    <tr>\n",
       "      <th>11</th>\n",
       "      <td>StreamingTV</td>\n",
       "      <td>7043</td>\n",
       "      <td>0</td>\n",
       "      <td>0.0</td>\n",
       "      <td>No                     2810\n",
       "Yes               ...</td>\n",
       "      <td>3</td>\n",
       "      <td>No</td>\n",
       "    </tr>\n",
       "    <tr>\n",
       "      <th>12</th>\n",
       "      <td>StreamingMovies</td>\n",
       "      <td>7043</td>\n",
       "      <td>0</td>\n",
       "      <td>0.0</td>\n",
       "      <td>No                     2785\n",
       "Yes               ...</td>\n",
       "      <td>3</td>\n",
       "      <td>No</td>\n",
       "    </tr>\n",
       "    <tr>\n",
       "      <th>13</th>\n",
       "      <td>Contract</td>\n",
       "      <td>7043</td>\n",
       "      <td>0</td>\n",
       "      <td>0.0</td>\n",
       "      <td>Month-to-month    3875\n",
       "Two year          1695\n",
       "...</td>\n",
       "      <td>3</td>\n",
       "      <td>Month-to-month</td>\n",
       "    </tr>\n",
       "    <tr>\n",
       "      <th>14</th>\n",
       "      <td>PaperlessBilling</td>\n",
       "      <td>7043</td>\n",
       "      <td>0</td>\n",
       "      <td>0.0</td>\n",
       "      <td>Yes    4171\n",
       "No     2872\n",
       "Name: PaperlessBilling...</td>\n",
       "      <td>2</td>\n",
       "      <td>Yes</td>\n",
       "    </tr>\n",
       "    <tr>\n",
       "      <th>15</th>\n",
       "      <td>PaymentMethod</td>\n",
       "      <td>7043</td>\n",
       "      <td>0</td>\n",
       "      <td>0.0</td>\n",
       "      <td>Electronic check             2365\n",
       "Mailed check...</td>\n",
       "      <td>4</td>\n",
       "      <td>Electronic check</td>\n",
       "    </tr>\n",
       "    <tr>\n",
       "      <th>16</th>\n",
       "      <td>Churn</td>\n",
       "      <td>7043</td>\n",
       "      <td>0</td>\n",
       "      <td>0.0</td>\n",
       "      <td>No     5174\n",
       "Yes    1869\n",
       "Name: Churn, dtype: int64</td>\n",
       "      <td>2</td>\n",
       "      <td>No</td>\n",
       "    </tr>\n",
       "  </tbody>\n",
       "</table>\n",
       "</div>"
      ],
      "text/plain": [
       "        Feature_Name Count Missing_Count Missing_Percentage  \\\n",
       "0         customerID  7043             0                0.0   \n",
       "1             gender  7043             0                0.0   \n",
       "2            Partner  7043             0                0.0   \n",
       "3         Dependents  7043             0                0.0   \n",
       "4       PhoneService  7043             0                0.0   \n",
       "5      MultipleLines  7043             0                0.0   \n",
       "6    InternetService  7043             0                0.0   \n",
       "7     OnlineSecurity  7043             0                0.0   \n",
       "8       OnlineBackup  7043             0                0.0   \n",
       "9   DeviceProtection  7043             0                0.0   \n",
       "10       TechSupport  7043             0                0.0   \n",
       "11       StreamingTV  7043             0                0.0   \n",
       "12   StreamingMovies  7043             0                0.0   \n",
       "13          Contract  7043             0                0.0   \n",
       "14  PaperlessBilling  7043             0                0.0   \n",
       "15     PaymentMethod  7043             0                0.0   \n",
       "16             Churn  7043             0                0.0   \n",
       "\n",
       "                                         Value_Counts Number_Of_Unique  \\\n",
       "0   7590-VHVEG    1\n",
       "3791-LGQCY    1\n",
       "6008-NAIXK    ...             7043   \n",
       "1   Male      3555\n",
       "Female    3488\n",
       "Name: gender, dt...                2   \n",
       "2   No     3641\n",
       "Yes    3402\n",
       "Name: Partner, dtype: ...                2   \n",
       "3   No     4933\n",
       "Yes    2110\n",
       "Name: Dependents, dtyp...                2   \n",
       "4   Yes    6361\n",
       "No      682\n",
       "Name: PhoneService, dt...                2   \n",
       "5   No                  3390\n",
       "Yes                 2...                3   \n",
       "6   Fiber optic    3096\n",
       "DSL            2421\n",
       "No    ...                3   \n",
       "7   No                     3498\n",
       "Yes               ...                3   \n",
       "8   No                     3088\n",
       "Yes               ...                3   \n",
       "9   No                     3095\n",
       "Yes               ...                3   \n",
       "10  No                     3473\n",
       "Yes               ...                3   \n",
       "11  No                     2810\n",
       "Yes               ...                3   \n",
       "12  No                     2785\n",
       "Yes               ...                3   \n",
       "13  Month-to-month    3875\n",
       "Two year          1695\n",
       "...                3   \n",
       "14  Yes    4171\n",
       "No     2872\n",
       "Name: PaperlessBilling...                2   \n",
       "15  Electronic check             2365\n",
       "Mailed check...                4   \n",
       "16  No     5174\n",
       "Yes    1869\n",
       "Name: Churn, dtype: int64                2   \n",
       "\n",
       "                Mode  \n",
       "0         0002-ORFBO  \n",
       "1               Male  \n",
       "2                 No  \n",
       "3                 No  \n",
       "4                Yes  \n",
       "5                 No  \n",
       "6        Fiber optic  \n",
       "7                 No  \n",
       "8                 No  \n",
       "9                 No  \n",
       "10                No  \n",
       "11                No  \n",
       "12                No  \n",
       "13    Month-to-month  \n",
       "14               Yes  \n",
       "15  Electronic check  \n",
       "16                No  "
      ]
     },
     "execution_count": 11,
     "metadata": {},
     "output_type": "execute_result"
    }
   ],
   "source": [
    "DataAnalysis.description_for_categoric_cols(data=data.loc[:,categoric_cols])"
   ]
  },
  {
   "cell_type": "markdown",
   "metadata": {},
   "source": [
    "There are no ordinal or hierarchical relations for categorical features. Additionally, the number of unique values is not excessively high. Therefore, applying one-hot encoding would be more reasonable than using label encoding."
   ]
  },
  {
   "cell_type": "code",
   "execution_count": 12,
   "metadata": {},
   "outputs": [
    {
     "data": {
      "image/png": "[encoded data removed]",
      "text/plain": [
       "<Figure size 432x288 with 1 Axes>"
      ]
     },
     "metadata": {
      "needs_background": "light"
     },
     "output_type": "display_data"
    },
    {
     "data": {
      "image/png": "[encoded data removed]",
      "text/plain": [
       "<Figure size 432x288 with 1 Axes>"
      ]
     },
     "metadata": {
      "needs_background": "light"
     },
     "output_type": "display_data"
    },
    {
     "data": {
      "image/png": "[encoded data removed]",
      "text/plain": [
       "<Figure size 432x288 with 1 Axes>"
      ]
     },
     "metadata": {
      "needs_background": "light"
     },
     "output_type": "display_data"
    },
    {
     "data": {
      "image/png": "[encoded data removed]",
      "text/plain": [
       "<Figure size 432x288 with 1 Axes>"
      ]
     },
     "metadata": {
      "needs_background": "light"
     },
     "output_type": "display_data"
    },
    {
     "data": {
      "image/png": "[encoded data removed]",
      "text/plain": [
       "<Figure size 432x288 with 1 Axes>"
      ]
     },
     "metadata": {
      "needs_background": "light"
     },
     "output_type": "display_data"
    },
    {
     "data": {
      "image/png": "[encoded data removed]",
      "text/plain": [
       "<Figure size 432x288 with 1 Axes>"
      ]
     },
     "metadata": {
      "needs_background": "light"
     },
     "output_type": "display_data"
    },
    {
     "data": {
      "image/png": "[encoded data removed]",
      "text/plain": [
       "<Figure size 432x288 with 1 Axes>"
      ]
     },
     "metadata": {
      "needs_background": "light"
     },
     "output_type": "display_data"
    },
    {
     "data": {
      "image/png": "[encoded data removed]",
      "text/plain": [
       "<Figure size 432x288 with 1 Axes>"
      ]
     },
     "metadata": {
      "needs_background": "light"
     },
     "output_type": "display_data"
    },
    {
     "data": {
      "image/png": "[encoded data removed]",
      "text/plain": [
       "<Figure size 432x288 with 1 Axes>"
      ]
     },
     "metadata": {
      "needs_background": "light"
     },
     "output_type": "display_data"
    },
    {
     "data": {
      "image/png": "[encoded data removed]",
      "text/plain": [
       "<Figure size 432x288 with 1 Axes>"
      ]
     },
     "metadata": {
      "needs_background": "light"
     },
     "output_type": "display_data"
    },
    {
     "data": {
      "image/png": "[encoded data removed]",
      "text/plain": [
       "<Figure size 432x288 with 1 Axes>"
      ]
     },
     "metadata": {
      "needs_background": "light"
     },
     "output_type": "display_data"
    },
    {
     "data": {
      "image/png": "[encoded data removed]",
      "text/plain": [
       "<Figure size 432x288 with 1 Axes>"
      ]
     },
     "metadata": {
      "needs_background": "light"
     },
     "output_type": "display_data"
    },
    {
     "data": {
      "image/png": "[encoded data removed]",
      "text/plain": [
       "<Figure size 432x288 with 1 Axes>"
      ]
     },
     "metadata": {
      "needs_background": "light"
     },
     "output_type": "display_data"
    },
    {
     "data": {
      "image/png": "[encoded data removed]",
      "text/plain": [
       "<Figure size 432x288 with 1 Axes>"
      ]
     },
     "metadata": {
      "needs_background": "light"
     },
     "output_type": "display_data"
    },
    {
     "data": {
      "image/png": "[encoded data removed]",
      "text/plain": [
       "<Figure size 432x288 with 1 Axes>"
      ]
     },
     "metadata": {
      "needs_background": "light"
     },
     "output_type": "display_data"
    }
   ],
   "source": [
    "categoric_column_list = [\"gender\", \"Partner\", \"Dependents\", \"PhoneService\", \"MultipleLines\", \"OnlineSecurity\", \"OnlineBackup\", \n",
    "                         \"DeviceProtection\",\"TechSupport\", \"StreamingTV\", \"StreamingMovies\",\"PaperlessBilling\",\"InternetService\",  \n",
    "                         \"Contract\", \"PaymentMethod\"]\n",
    "\n",
    "for column in categoric_column_list:\n",
    "    DataAnalysis.bar_plot_categoric_feat(data=data, feature_name=column)"
   ]
  },
  {
   "cell_type": "markdown",
   "metadata": {},
   "source": [
    "## Cardinality Issue for All Features"
   ]
  },
  {
   "cell_type": "markdown",
   "metadata": {},
   "source": [
    "Low cordinality/Constant Column: \n",
    "\n",
    "A column that has the same value for every row in a dataset is often considered uninformative and can be a problem in data analysis or machine learning, as it doesn't provide any information.\n",
    "\n",
    "High Cardinality: \n",
    "\n",
    "When each row in a dataset has a unique value. High cardinality features can present challenges for modeling, as they can lead to a large number of unique categories, which can make the data more difficult to work with."
   ]
  },
  {
   "cell_type": "code",
   "execution_count": 13,
   "metadata": {},
   "outputs": [
    {
     "data": {
      "text/plain": [
       "customerID          7043\n",
       "gender                 2\n",
       "SeniorCitizen          2\n",
       "Partner                2\n",
       "Dependents             2\n",
       "tenure                73\n",
       "PhoneService           2\n",
       "MultipleLines          3\n",
       "InternetService        3\n",
       "OnlineSecurity         3\n",
       "OnlineBackup           3\n",
       "DeviceProtection       3\n",
       "TechSupport            3\n",
       "StreamingTV            3\n",
       "StreamingMovies        3\n",
       "Contract               3\n",
       "PaperlessBilling       2\n",
       "PaymentMethod          4\n",
       "MonthlyCharges      1585\n",
       "TotalCharges        6530\n",
       "Churn                  2\n",
       "dtype: int64"
      ]
     },
     "execution_count": 13,
     "metadata": {},
     "output_type": "execute_result"
    }
   ],
   "source": [
    "data.nunique()"
   ]
  },
  {
   "cell_type": "markdown",
   "metadata": {},
   "source": [
    "The data has many constant features and columns with high cardinality problem.\n",
    "\n",
    "Low cordinality columns:\n",
    "\n",
    "Count column\n",
    "Country column\n",
    "State column\n",
    "High cordinality columns:\n",
    "\n",
    "CustomerID column.\n",
    "Zip Code column."
   ]
  },
  {
   "cell_type": "markdown",
   "metadata": {},
   "source": [
    "## Imputation for Missing Values"
   ]
  },
  {
   "cell_type": "code",
   "execution_count": 14,
   "metadata": {},
   "outputs": [
    {
     "name": "stdout",
     "output_type": "stream",
     "text": [
      "Check duplicate columns: \n",
      "[]\n",
      "***************************************************************************\n",
      "Check duplicate rows: \n",
      "Empty DataFrame\n",
      "Columns: [customerID, gender, SeniorCitizen, Partner, Dependents, tenure, PhoneService, MultipleLines, InternetService, OnlineSecurity, OnlineBackup, DeviceProtection, TechSupport, StreamingTV, StreamingMovies, Contract, PaperlessBilling, PaymentMethod, MonthlyCharges, TotalCharges, Churn]\n",
      "Index: []\n"
     ]
    }
   ],
   "source": [
    "#Before imputation, check duplicate columns and rows\n",
    "print(f\"Check duplicate columns: \\n{Preprocessor.check_duplicate_cols(data)}\")\n",
    "print('*'*75)\n",
    "print(f\"Check duplicate rows: \\n{Preprocessor.check_duplicate_rows(data)}\")"
   ]
  },
  {
   "cell_type": "code",
   "execution_count": 15,
   "metadata": {},
   "outputs": [
    {
     "name": "stdout",
     "output_type": "stream",
     "text": [
      "TotalCharges has 11 missing values.\n"
     ]
    }
   ],
   "source": [
    "Preprocessor.return_only_missing_counts(data=data)"
   ]
  },
  {
   "cell_type": "code",
   "execution_count": 16,
   "metadata": {},
   "outputs": [],
   "source": [
    "# we have the number of months that the customer uses the service, Tenure Months, and Monthly Charges. we can replace null values with those calculated by monthly charges * tenure months\n",
    "data['TotalCharges'].fillna(data['MonthlyCharges'] * data['tenure'], inplace=True)"
   ]
  },
  {
   "cell_type": "markdown",
   "metadata": {},
   "source": [
    "## Encoding Part"
   ]
  },
  {
   "cell_type": "code",
   "execution_count": 17,
   "metadata": {},
   "outputs": [
    {
     "name": "stdout",
     "output_type": "stream",
     "text": [
      "Index(['customerID', 'SeniorCitizen', 'tenure', 'MonthlyCharges',\n",
      "       'TotalCharges', 'Churn', 'gender_Female', 'gender_Male', 'Partner_No',\n",
      "       'Partner_Yes', 'Dependents_No', 'Dependents_Yes', 'PhoneService_No',\n",
      "       'PhoneService_Yes', 'MultipleLines_No',\n",
      "       'MultipleLines_No phone service', 'MultipleLines_Yes',\n",
      "       'OnlineSecurity_No', 'OnlineSecurity_No internet service',\n",
      "       'OnlineSecurity_Yes', 'OnlineBackup_No',\n",
      "       'OnlineBackup_No internet service', 'OnlineBackup_Yes',\n",
      "       'DeviceProtection_No', 'DeviceProtection_No internet service',\n",
      "       'DeviceProtection_Yes', 'TechSupport_No',\n",
      "       'TechSupport_No internet service', 'TechSupport_Yes', 'StreamingTV_No',\n",
      "       'StreamingTV_No internet service', 'StreamingTV_Yes',\n",
      "       'StreamingMovies_No', 'StreamingMovies_No internet service',\n",
      "       'StreamingMovies_Yes', 'PaperlessBilling_No', 'PaperlessBilling_Yes',\n",
      "       'InternetService_DSL', 'InternetService_Fiber optic',\n",
      "       'InternetService_No', 'Contract_Month-to-month', 'Contract_One year',\n",
      "       'Contract_Two year', 'PaymentMethod_Bank transfer (automatic)',\n",
      "       'PaymentMethod_Credit card (automatic)',\n",
      "       'PaymentMethod_Electronic check', 'PaymentMethod_Mailed check'],\n",
      "      dtype='object')\n"
     ]
    }
   ],
   "source": [
    "# encode categorical data using one-hot encoding or label encoding\n",
    "cols_to_use = [\"gender\", \"Partner\", \"Dependents\", \"PhoneService\", \"MultipleLines\", \"OnlineSecurity\", \"OnlineBackup\", \"DeviceProtection\",\n",
    "              \"TechSupport\", \"StreamingTV\", \"StreamingMovies\",\"PaperlessBilling\",\"InternetService\",  \"Contract\", \"PaymentMethod\"]\n",
    "\n",
    "\n",
    "for column in cols_to_use:\n",
    "    data = Preprocessor.one_hot_encoder(data, column)\n",
    "\n",
    "print(data.columns)"
   ]
  },
  {
   "cell_type": "markdown",
   "metadata": {},
   "source": [
    "## Split Data and Model Trials"
   ]
  },
  {
   "cell_type": "code",
   "execution_count": 18,
   "metadata": {},
   "outputs": [
    {
     "name": "stdout",
     "output_type": "stream",
     "text": [
      "<class 'pandas.core.frame.DataFrame'>\n",
      "RangeIndex: 7043 entries, 0 to 7042\n",
      "Data columns (total 45 columns):\n",
      " #   Column                                   Non-Null Count  Dtype  \n",
      "---  ------                                   --------------  -----  \n",
      " 0   SeniorCitizen                            7043 non-null   int64  \n",
      " 1   tenure                                   7043 non-null   int64  \n",
      " 2   MonthlyCharges                           7043 non-null   float64\n",
      " 3   TotalCharges                             7043 non-null   float64\n",
      " 4   gender_Female                            7043 non-null   uint8  \n",
      " 5   gender_Male                              7043 non-null   uint8  \n",
      " 6   Partner_No                               7043 non-null   uint8  \n",
      " 7   Partner_Yes                              7043 non-null   uint8  \n",
      " 8   Dependents_No                            7043 non-null   uint8  \n",
      " 9   Dependents_Yes                           7043 non-null   uint8  \n",
      " 10  PhoneService_No                          7043 non-null   uint8  \n",
      " 11  PhoneService_Yes                         7043 non-null   uint8  \n",
      " 12  MultipleLines_No                         7043 non-null   uint8  \n",
      " 13  MultipleLines_No phone service           7043 non-null   uint8  \n",
      " 14  MultipleLines_Yes                        7043 non-null   uint8  \n",
      " 15  OnlineSecurity_No                        7043 non-null   uint8  \n",
      " 16  OnlineSecurity_No internet service       7043 non-null   uint8  \n",
      " 17  OnlineSecurity_Yes                       7043 non-null   uint8  \n",
      " 18  OnlineBackup_No                          7043 non-null   uint8  \n",
      " 19  OnlineBackup_No internet service         7043 non-null   uint8  \n",
      " 20  OnlineBackup_Yes                         7043 non-null   uint8  \n",
      " 21  DeviceProtection_No                      7043 non-null   uint8  \n",
      " 22  DeviceProtection_No internet service     7043 non-null   uint8  \n",
      " 23  DeviceProtection_Yes                     7043 non-null   uint8  \n",
      " 24  TechSupport_No                           7043 non-null   uint8  \n",
      " 25  TechSupport_No internet service          7043 non-null   uint8  \n",
      " 26  TechSupport_Yes                          7043 non-null   uint8  \n",
      " 27  StreamingTV_No                           7043 non-null   uint8  \n",
      " 28  StreamingTV_No internet service          7043 non-null   uint8  \n",
      " 29  StreamingTV_Yes                          7043 non-null   uint8  \n",
      " 30  StreamingMovies_No                       7043 non-null   uint8  \n",
      " 31  StreamingMovies_No internet service      7043 non-null   uint8  \n",
      " 32  StreamingMovies_Yes                      7043 non-null   uint8  \n",
      " 33  PaperlessBilling_No                      7043 non-null   uint8  \n",
      " 34  PaperlessBilling_Yes                     7043 non-null   uint8  \n",
      " 35  InternetService_DSL                      7043 non-null   uint8  \n",
      " 36  InternetService_Fiber optic              7043 non-null   uint8  \n",
      " 37  InternetService_No                       7043 non-null   uint8  \n",
      " 38  Contract_Month-to-month                  7043 non-null   uint8  \n",
      " 39  Contract_One year                        7043 non-null   uint8  \n",
      " 40  Contract_Two year                        7043 non-null   uint8  \n",
      " 41  PaymentMethod_Bank transfer (automatic)  7043 non-null   uint8  \n",
      " 42  PaymentMethod_Credit card (automatic)    7043 non-null   uint8  \n",
      " 43  PaymentMethod_Electronic check           7043 non-null   uint8  \n",
      " 44  PaymentMethod_Mailed check               7043 non-null   uint8  \n",
      "dtypes: float64(2), int64(2), uint8(41)\n",
      "memory usage: 502.2 KB\n"
     ]
    }
   ],
   "source": [
    "# delete customerID columns\n",
    "del data['customerID']\n",
    "#Convert target feature to binary variable\n",
    "data['Churn'] = pd.to_numeric(data['Churn'].replace({'No':0, 'Yes':1}))\n",
    "y = data['Churn']\n",
    "X = data.drop('Churn', axis=1)\n",
    "\n",
    "X_train, X_test, y_train, y_test = Preprocessor.split_data(X, y)\n",
    "\n",
    "X.info()"
   ]
  },
  {
   "cell_type": "code",
   "execution_count": 19,
   "metadata": {},
   "outputs": [
    {
     "name": "stdout",
     "output_type": "stream",
     "text": [
      "                            Feature_Name  Gini_Score\n",
      "1                                 tenure    0.524989\n",
      "38               Contract_Month-to-month    0.455682\n",
      "2                         MonthlyCharges    0.434672\n",
      "3                           TotalCharges    0.431132\n",
      "24                        TechSupport_No    0.387310\n",
      "15                     OnlineSecurity_No    0.381782\n",
      "36           InternetService_Fiber optic    0.352394\n",
      "43        PaymentMethod_Electronic check    0.348464\n",
      "40                     Contract_Two year    0.303697\n",
      "18                       OnlineBackup_No    0.289863\n",
      "21                   DeviceProtection_No    0.285189\n",
      "22  DeviceProtection_No internet service    0.215640\n",
      "28       StreamingTV_No internet service    0.215640\n",
      "25       TechSupport_No internet service    0.215640\n",
      "19      OnlineBackup_No internet service    0.215640\n"
     ]
    }
   ],
   "source": [
    "#Calculate Univariate Gini for Feature Selection Part \n",
    "univariate_gini_scores = Preprocessor.calculate_univariate_gini(data,'Churn', X_test, y_test)\n",
    "sorted_univariate_gini_scores = univariate_gini_scores.sort_values(by='Gini_Score', ascending=False)\n",
    "print(sorted_univariate_gini_scores.head(15))"
   ]
  },
  {
   "cell_type": "markdown",
   "metadata": {},
   "source": [
    " We can proceed with the first 15 features during model trials; however, since the total count of features is not high, no feature reduction method will be applied.\n"
   ]
  },
  {
   "cell_type": "markdown",
   "metadata": {},
   "source": [
    "## Experiment on Different Models\n",
    "\n",
    "We have many models to use:\n",
    "grid search(computational high)/ random search (not good)\n",
    "\n",
    "\n",
    "data manipulating\n",
    "\n",
    "1. xgboost # can handle missing values # learn misclassification\n",
    "\n",
    "use grid search \n",
    "\n",
    "optuna, hyperparameter tuning\n",
    "\n",
    "website: xgboost\n",
    "\n",
    "subsample \n",
    "\n",
    "2. Random Forest  # learn positive classification\n",
    "\n",
    "use random/optima methods # comapre the two tuning method\n",
    "\n",
    "\n",
    "3. Logistic regression # cannot handle missing/outliers/correlations\n",
    "\n",
    "scaling methods\n",
    "\n",
    "correlation implementation\n",
    "\n",
    "category ratio, robust scaling, correlation methods\n",
    "\n",
    "drop one if corr >50/70, with low gini score\n",
    "\n"
   ]
  },
  {
   "cell_type": "markdown",
   "metadata": {},
   "source": [
    "### XGBoost"
   ]
  },
  {
   "cell_type": "code",
   "execution_count": 20,
   "metadata": {},
   "outputs": [
    {
     "name": "stdout",
     "output_type": "stream",
     "text": [
      "Cross Validation Score :  82.15%\n",
      "ROC_AUC Score :  69.10%\n",
      "Gini Score :  38.21%\n",
      "              precision    recall  f1-score   support\n",
      "\n",
      "           0       0.83      0.89      0.86      1035\n",
      "           1       0.62      0.49      0.55       374\n",
      "\n",
      "    accuracy                           0.79      1409\n",
      "   macro avg       0.73      0.69      0.70      1409\n",
      "weighted avg       0.77      0.79      0.78      1409\n",
      "\n"
     ]
    },
    {
     "data": {
      "image/png": "[encoded data removed]",
      "text/plain": [
       "<Figure size 432x288 with 2 Axes>"
      ]
     },
     "metadata": {
      "needs_background": "light"
     },
     "output_type": "display_data"
    }
   ],
   "source": [
    "#Default Model for XGB\n",
    "xgb_model = xgb.XGBClassifier()\n",
    "\n",
    "ModelTrainer(xgb_model, X_train,y_train, X_test,y_test)\n",
    "ModelEvaluator(xgb_model,X_test,y_test)"
   ]
  },
  {
   "cell_type": "code",
   "execution_count": 21,
   "metadata": {},
   "outputs": [
    {
     "name": "stdout",
     "output_type": "stream",
     "text": [
      "Best parameters: {'n_estimators': 198, 'max_depth': 2, 'min_child_weight': 2, 'gamma': 1.2461488533637736e-07, 'learning_rate': 0.0892944354687487, 'subsample': 0.9378363645096479, 'colsample_bytree': 0.3144127150298241}\n",
      "Cross Validation Score :  84.78%\n",
      "ROC_AUC Score :  72.04%\n",
      "Gini Score :  44.07%\n",
      "              precision    recall  f1-score   support\n",
      "\n",
      "           0       0.84      0.91      0.88      1035\n",
      "           1       0.69      0.53      0.60       374\n",
      "\n",
      "    accuracy                           0.81      1409\n",
      "   macro avg       0.77      0.72      0.74      1409\n",
      "weighted avg       0.80      0.81      0.80      1409\n",
      "\n"
     ]
    },
    {
     "data": {
      "image/png": "[encoded data removed]",
      "text/plain": [
       "<Figure size 432x288 with 2 Axes>"
      ]
     },
     "metadata": {
      "needs_background": "light"
     },
     "output_type": "display_data"
    }
   ],
   "source": [
    "# XGB with Optuna \n",
    "import logging \n",
    "import optuna\n",
    "optuna.logging.set_verbosity(optuna.logging.WARNING) # each trial information will not be seen.\n",
    "\n",
    "def objective_xgb(trial,X_train, y_train, X_test, y_test):\n",
    "    param = {\n",
    "        'n_estimators': trial.suggest_int('n_estimators', 50, 400),\n",
    "        'max_depth': trial.suggest_int('max_depth', 2, 25),\n",
    "        'min_child_weight': trial.suggest_int('min_child_weight', 1, 6),\n",
    "        'gamma': trial.suggest_float('gamma', 1e-8, 1.0, log=True),\n",
    "        'learning_rate': trial.suggest_float('learning_rate', 1e-8, 1.0, log=True),\n",
    "        'subsample': trial.suggest_float('subsample', 0.2, 1.0),\n",
    "        'colsample_bytree': trial.suggest_float('colsample_bytree', 0.2, 1.0),\n",
    "    }\n",
    "\n",
    "    model = xgb.XGBClassifier(**param)\n",
    "    model.fit(X_train, y_train)\n",
    "    preds = model.predict(X_test)\n",
    "    accuracy = accuracy_score(y_test, preds)\n",
    "    return accuracy\n",
    "\n",
    "study = optuna.create_study(direction='maximize')\n",
    "study.optimize(lambda trial: objective_xgb(trial, X_train, y_train, X_test, y_test), n_trials=100)\n",
    "\n",
    "best_params = study.best_trial.params\n",
    "print(\"Best parameters:\", best_params)\n",
    "\n",
    "\n",
    "# Train the model with the best parameters\n",
    "xgb_opt = xgb.XGBClassifier(**best_params)\n",
    "ModelTrainer(xgb_opt, X_train, y_train, X_test, y_test)\n",
    "ModelEvaluator(xgb_opt, X_test, y_test)\n"
   ]
  },
  {
   "cell_type": "markdown",
   "metadata": {},
   "source": [
    "### Random Forest"
   ]
  },
  {
   "cell_type": "code",
   "execution_count": 22,
   "metadata": {},
   "outputs": [
    {
     "name": "stdout",
     "output_type": "stream",
     "text": [
      "Cross Validation Score :  82.09%\n",
      "ROC_AUC Score :  67.76%\n",
      "Gini Score :  35.53%\n",
      "              precision    recall  f1-score   support\n",
      "\n",
      "           0       0.82      0.90      0.86      1035\n",
      "           1       0.63      0.45      0.53       374\n",
      "\n",
      "    accuracy                           0.78      1409\n",
      "   macro avg       0.72      0.68      0.69      1409\n",
      "weighted avg       0.77      0.78      0.77      1409\n",
      "\n"
     ]
    },
    {
     "data": {
      "image/png": "[encoded data removed]",
      "text/plain": [
       "<Figure size 432x288 with 2 Axes>"
      ]
     },
     "metadata": {
      "needs_background": "light"
     },
     "output_type": "display_data"
    }
   ],
   "source": [
    "# Default Model for Random Forest\n",
    "RanForCla = RandomForestClassifier()\n",
    "\n",
    "ModelTrainer(RanForCla,X_train,y_train,X_test,y_test)\n",
    "ModelEvaluator(RanForCla, X_test,y_test)"
   ]
  },
  {
   "cell_type": "code",
   "execution_count": 23,
   "metadata": {},
   "outputs": [
    {
     "name": "stdout",
     "output_type": "stream",
     "text": [
      "Best Param of Random Forest with GridSearch : \n",
      "{'criterion': 'gini', 'max_depth': 8, 'max_features': 'sqrt', 'n_estimators': 200}\n",
      "**********************************************************************\n",
      "Best Score of Random Forest with GridSearch : \n",
      "0.8039657210401892\n"
     ]
    }
   ],
   "source": [
    "# Random Forest with GridSearch \n",
    "best_param, best_score = gridsearch(X=X, y=y, model=RanForCla)\n",
    "print(f\"Best Param of Random Forest with GridSearch : \\n{best_param}\")\n",
    "print(\"*\"*70)\n",
    "print(f\"Best Score of Random Forest with GridSearch : \\n{best_score}\")"
   ]
  },
  {
   "cell_type": "code",
   "execution_count": 24,
   "metadata": {},
   "outputs": [
    {
     "name": "stdout",
     "output_type": "stream",
     "text": [
      "Cross Validation Score :  84.55%\n",
      "ROC_AUC Score :  70.36%\n",
      "Gini Score :  40.72%\n",
      "              precision    recall  f1-score   support\n",
      "\n",
      "           0       0.83      0.91      0.87      1035\n",
      "           1       0.66      0.50      0.57       374\n",
      "\n",
      "    accuracy                           0.80      1409\n",
      "   macro avg       0.75      0.70      0.72      1409\n",
      "weighted avg       0.79      0.80      0.79      1409\n",
      "\n"
     ]
    },
    {
     "data": {
      "image/png": "[encoded data removed]",
      "text/plain": [
       "<Figure size 432x288 with 2 Axes>"
      ]
     },
     "metadata": {
      "needs_background": "light"
     },
     "output_type": "display_data"
    }
   ],
   "source": [
    "# Train the Random Forest model with the best parameters\n",
    "rf_opt = RandomForestClassifier(**best_param) #best param from gridsearchCV\n",
    "ModelTrainer(rf_opt, X_train, y_train, X_test, y_test)\n",
    "ModelEvaluator(rf_opt, X_test, y_test)"
   ]
  },
  {
   "cell_type": "markdown",
   "metadata": {},
   "source": [
    "### Logistic Regression"
   ]
  },
  {
   "cell_type": "code",
   "execution_count": 25,
   "metadata": {},
   "outputs": [
    {
     "name": "stdout",
     "output_type": "stream",
     "text": [
      "Cross Validation Score :  84.28%\n",
      "ROC_AUC Score :  71.64%\n",
      "Gini Score :  43.28%\n",
      "              precision    recall  f1-score   support\n",
      "\n",
      "           0       0.84      0.90      0.87      1035\n",
      "           1       0.66      0.53      0.59       374\n",
      "\n",
      "    accuracy                           0.80      1409\n",
      "   macro avg       0.75      0.72      0.73      1409\n",
      "weighted avg       0.79      0.80      0.80      1409\n",
      "\n"
     ]
    },
    {
     "data": {
      "image/png": "[encoded data removed]",
      "text/plain": [
       "<Figure size 432x288 with 2 Axes>"
      ]
     },
     "metadata": {
      "needs_background": "light"
     },
     "output_type": "display_data"
    }
   ],
   "source": [
    "# Default Logistic Regression without Robust Scaling (Fixin Outliers, Correlation Elimination)\n",
    "LR = LogisticRegression()\n",
    "\n",
    "ModelTrainer(LR, X_train,y_train, X_test,y_test)\n",
    "ModelEvaluator(LR,X_test,y_test)"
   ]
  },
  {
   "cell_type": "code",
   "execution_count": 30,
   "metadata": {},
   "outputs": [
    {
     "name": "stdout",
     "output_type": "stream",
     "text": [
      "Drop List: \n",
      "['TotalCharges']\n",
      "**********************************************************************\n",
      "Keep List: \n",
      "['tenure', 'MonthlyCharges']\n"
     ]
    }
   ],
   "source": [
    "## Correlation Elimination for Multicollinerity Problem \n",
    "drop_list, keep_list = Preprocessor.correlation_elimination(data=data.loc[:, numeric_cols], gini_df=sorted_univariate_gini_scores, threshold=0.60)\n",
    "print(f\"Drop List: \\n{drop_list}\")\n",
    "print(\"*\"*70)\n",
    "print(f\"Keep List: \\n{keep_list}\")"
   ]
  },
  {
   "cell_type": "code",
   "execution_count": 32,
   "metadata": {},
   "outputs": [
    {
     "data": {
      "text/html": [
       "<div>\n",
       "<style scoped>\n",
       "    .dataframe tbody tr th:only-of-type {\n",
       "        vertical-align: middle;\n",
       "    }\n",
       "\n",
       "    .dataframe tbody tr th {\n",
       "        vertical-align: top;\n",
       "    }\n",
       "\n",
       "    .dataframe thead th {\n",
       "        text-align: right;\n",
       "    }\n",
       "</style>\n",
       "<table border=\"1\" class=\"dataframe\">\n",
       "  <thead>\n",
       "    <tr style=\"text-align: right;\">\n",
       "      <th></th>\n",
       "      <th>SeniorCitizen</th>\n",
       "      <th>tenure</th>\n",
       "      <th>MonthlyCharges</th>\n",
       "      <th>Churn</th>\n",
       "      <th>gender_Female</th>\n",
       "      <th>gender_Male</th>\n",
       "      <th>Partner_No</th>\n",
       "      <th>Partner_Yes</th>\n",
       "      <th>Dependents_No</th>\n",
       "      <th>Dependents_Yes</th>\n",
       "      <th>PhoneService_No</th>\n",
       "      <th>PhoneService_Yes</th>\n",
       "      <th>MultipleLines_No</th>\n",
       "      <th>MultipleLines_No phone service</th>\n",
       "      <th>MultipleLines_Yes</th>\n",
       "      <th>OnlineSecurity_No</th>\n",
       "      <th>OnlineSecurity_No internet service</th>\n",
       "      <th>OnlineSecurity_Yes</th>\n",
       "      <th>OnlineBackup_No</th>\n",
       "      <th>OnlineBackup_No internet service</th>\n",
       "      <th>OnlineBackup_Yes</th>\n",
       "      <th>DeviceProtection_No</th>\n",
       "      <th>DeviceProtection_No internet service</th>\n",
       "      <th>DeviceProtection_Yes</th>\n",
       "      <th>TechSupport_No</th>\n",
       "      <th>TechSupport_No internet service</th>\n",
       "      <th>TechSupport_Yes</th>\n",
       "      <th>StreamingTV_No</th>\n",
       "      <th>StreamingTV_No internet service</th>\n",
       "      <th>StreamingTV_Yes</th>\n",
       "      <th>StreamingMovies_No</th>\n",
       "      <th>StreamingMovies_No internet service</th>\n",
       "      <th>StreamingMovies_Yes</th>\n",
       "      <th>PaperlessBilling_No</th>\n",
       "      <th>PaperlessBilling_Yes</th>\n",
       "      <th>InternetService_DSL</th>\n",
       "      <th>InternetService_Fiber optic</th>\n",
       "      <th>InternetService_No</th>\n",
       "      <th>Contract_Month-to-month</th>\n",
       "      <th>Contract_One year</th>\n",
       "      <th>Contract_Two year</th>\n",
       "      <th>PaymentMethod_Bank transfer (automatic)</th>\n",
       "      <th>PaymentMethod_Credit card (automatic)</th>\n",
       "      <th>PaymentMethod_Electronic check</th>\n",
       "      <th>PaymentMethod_Mailed check</th>\n",
       "    </tr>\n",
       "  </thead>\n",
       "  <tbody>\n",
       "    <tr>\n",
       "      <th>0</th>\n",
       "      <td>0</td>\n",
       "      <td>1</td>\n",
       "      <td>29.85</td>\n",
       "      <td>0</td>\n",
       "      <td>1</td>\n",
       "      <td>0</td>\n",
       "      <td>0</td>\n",
       "      <td>1</td>\n",
       "      <td>1</td>\n",
       "      <td>0</td>\n",
       "      <td>1</td>\n",
       "      <td>0</td>\n",
       "      <td>0</td>\n",
       "      <td>1</td>\n",
       "      <td>0</td>\n",
       "      <td>1</td>\n",
       "      <td>0</td>\n",
       "      <td>0</td>\n",
       "      <td>0</td>\n",
       "      <td>0</td>\n",
       "      <td>1</td>\n",
       "      <td>1</td>\n",
       "      <td>0</td>\n",
       "      <td>0</td>\n",
       "      <td>1</td>\n",
       "      <td>0</td>\n",
       "      <td>0</td>\n",
       "      <td>1</td>\n",
       "      <td>0</td>\n",
       "      <td>0</td>\n",
       "      <td>1</td>\n",
       "      <td>0</td>\n",
       "      <td>0</td>\n",
       "      <td>0</td>\n",
       "      <td>1</td>\n",
       "      <td>1</td>\n",
       "      <td>0</td>\n",
       "      <td>0</td>\n",
       "      <td>1</td>\n",
       "      <td>0</td>\n",
       "      <td>0</td>\n",
       "      <td>0</td>\n",
       "      <td>0</td>\n",
       "      <td>1</td>\n",
       "      <td>0</td>\n",
       "    </tr>\n",
       "    <tr>\n",
       "      <th>1</th>\n",
       "      <td>0</td>\n",
       "      <td>34</td>\n",
       "      <td>56.95</td>\n",
       "      <td>0</td>\n",
       "      <td>0</td>\n",
       "      <td>1</td>\n",
       "      <td>1</td>\n",
       "      <td>0</td>\n",
       "      <td>1</td>\n",
       "      <td>0</td>\n",
       "      <td>0</td>\n",
       "      <td>1</td>\n",
       "      <td>1</td>\n",
       "      <td>0</td>\n",
       "      <td>0</td>\n",
       "      <td>0</td>\n",
       "      <td>0</td>\n",
       "      <td>1</td>\n",
       "      <td>1</td>\n",
       "      <td>0</td>\n",
       "      <td>0</td>\n",
       "      <td>0</td>\n",
       "      <td>0</td>\n",
       "      <td>1</td>\n",
       "      <td>1</td>\n",
       "      <td>0</td>\n",
       "      <td>0</td>\n",
       "      <td>1</td>\n",
       "      <td>0</td>\n",
       "      <td>0</td>\n",
       "      <td>1</td>\n",
       "      <td>0</td>\n",
       "      <td>0</td>\n",
       "      <td>1</td>\n",
       "      <td>0</td>\n",
       "      <td>1</td>\n",
       "      <td>0</td>\n",
       "      <td>0</td>\n",
       "      <td>0</td>\n",
       "      <td>1</td>\n",
       "      <td>0</td>\n",
       "      <td>0</td>\n",
       "      <td>0</td>\n",
       "      <td>0</td>\n",
       "      <td>1</td>\n",
       "    </tr>\n",
       "    <tr>\n",
       "      <th>2</th>\n",
       "      <td>0</td>\n",
       "      <td>2</td>\n",
       "      <td>53.85</td>\n",
       "      <td>1</td>\n",
       "      <td>0</td>\n",
       "      <td>1</td>\n",
       "      <td>1</td>\n",
       "      <td>0</td>\n",
       "      <td>1</td>\n",
       "      <td>0</td>\n",
       "      <td>0</td>\n",
       "      <td>1</td>\n",
       "      <td>1</td>\n",
       "      <td>0</td>\n",
       "      <td>0</td>\n",
       "      <td>0</td>\n",
       "      <td>0</td>\n",
       "      <td>1</td>\n",
       "      <td>0</td>\n",
       "      <td>0</td>\n",
       "      <td>1</td>\n",
       "      <td>1</td>\n",
       "      <td>0</td>\n",
       "      <td>0</td>\n",
       "      <td>1</td>\n",
       "      <td>0</td>\n",
       "      <td>0</td>\n",
       "      <td>1</td>\n",
       "      <td>0</td>\n",
       "      <td>0</td>\n",
       "      <td>1</td>\n",
       "      <td>0</td>\n",
       "      <td>0</td>\n",
       "      <td>0</td>\n",
       "      <td>1</td>\n",
       "      <td>1</td>\n",
       "      <td>0</td>\n",
       "      <td>0</td>\n",
       "      <td>1</td>\n",
       "      <td>0</td>\n",
       "      <td>0</td>\n",
       "      <td>0</td>\n",
       "      <td>0</td>\n",
       "      <td>0</td>\n",
       "      <td>1</td>\n",
       "    </tr>\n",
       "  </tbody>\n",
       "</table>\n",
       "</div>"
      ],
      "text/plain": [
       "   SeniorCitizen  tenure  MonthlyCharges  Churn  gender_Female  gender_Male  \\\n",
       "0              0       1           29.85      0              1            0   \n",
       "1              0      34           56.95      0              0            1   \n",
       "2              0       2           53.85      1              0            1   \n",
       "\n",
       "   Partner_No  Partner_Yes  Dependents_No  Dependents_Yes  PhoneService_No  \\\n",
       "0           0            1              1               0                1   \n",
       "1           1            0              1               0                0   \n",
       "2           1            0              1               0                0   \n",
       "\n",
       "   PhoneService_Yes  MultipleLines_No  MultipleLines_No phone service  \\\n",
       "0                 0                 0                               1   \n",
       "1                 1                 1                               0   \n",
       "2                 1                 1                               0   \n",
       "\n",
       "   MultipleLines_Yes  OnlineSecurity_No  OnlineSecurity_No internet service  \\\n",
       "0                  0                  1                                   0   \n",
       "1                  0                  0                                   0   \n",
       "2                  0                  0                                   0   \n",
       "\n",
       "   OnlineSecurity_Yes  OnlineBackup_No  OnlineBackup_No internet service  \\\n",
       "0                   0                0                                 0   \n",
       "1                   1                1                                 0   \n",
       "2                   1                0                                 0   \n",
       "\n",
       "   OnlineBackup_Yes  DeviceProtection_No  \\\n",
       "0                 1                    1   \n",
       "1                 0                    0   \n",
       "2                 1                    1   \n",
       "\n",
       "   DeviceProtection_No internet service  DeviceProtection_Yes  TechSupport_No  \\\n",
       "0                                     0                     0               1   \n",
       "1                                     0                     1               1   \n",
       "2                                     0                     0               1   \n",
       "\n",
       "   TechSupport_No internet service  TechSupport_Yes  StreamingTV_No  \\\n",
       "0                                0                0               1   \n",
       "1                                0                0               1   \n",
       "2                                0                0               1   \n",
       "\n",
       "   StreamingTV_No internet service  StreamingTV_Yes  StreamingMovies_No  \\\n",
       "0                                0                0                   1   \n",
       "1                                0                0                   1   \n",
       "2                                0                0                   1   \n",
       "\n",
       "   StreamingMovies_No internet service  StreamingMovies_Yes  \\\n",
       "0                                    0                    0   \n",
       "1                                    0                    0   \n",
       "2                                    0                    0   \n",
       "\n",
       "   PaperlessBilling_No  PaperlessBilling_Yes  InternetService_DSL  \\\n",
       "0                    0                     1                    1   \n",
       "1                    1                     0                    1   \n",
       "2                    0                     1                    1   \n",
       "\n",
       "   InternetService_Fiber optic  InternetService_No  Contract_Month-to-month  \\\n",
       "0                            0                   0                        1   \n",
       "1                            0                   0                        0   \n",
       "2                            0                   0                        1   \n",
       "\n",
       "   Contract_One year  Contract_Two year  \\\n",
       "0                  0                  0   \n",
       "1                  1                  0   \n",
       "2                  0                  0   \n",
       "\n",
       "   PaymentMethod_Bank transfer (automatic)  \\\n",
       "0                                        0   \n",
       "1                                        0   \n",
       "2                                        0   \n",
       "\n",
       "   PaymentMethod_Credit card (automatic)  PaymentMethod_Electronic check  \\\n",
       "0                                      0                               1   \n",
       "1                                      0                               0   \n",
       "2                                      0                               0   \n",
       "\n",
       "   PaymentMethod_Mailed check  \n",
       "0                           0  \n",
       "1                           1  \n",
       "2                           1  "
      ]
     },
     "metadata": {},
     "output_type": "display_data"
    }
   ],
   "source": [
    "# Drop features for multicollinerity issue\n",
    "df_after_corr = data.drop(columns= drop_list)\n",
    "display(df_after_corr.head(3))"
   ]
  },
  {
   "cell_type": "code",
   "execution_count": 37,
   "metadata": {},
   "outputs": [
    {
     "data": {
      "text/html": [
       "<div>\n",
       "<style scoped>\n",
       "    .dataframe tbody tr th:only-of-type {\n",
       "        vertical-align: middle;\n",
       "    }\n",
       "\n",
       "    .dataframe tbody tr th {\n",
       "        vertical-align: top;\n",
       "    }\n",
       "\n",
       "    .dataframe thead th {\n",
       "        text-align: right;\n",
       "    }\n",
       "</style>\n",
       "<table border=\"1\" class=\"dataframe\">\n",
       "  <thead>\n",
       "    <tr style=\"text-align: right;\">\n",
       "      <th></th>\n",
       "      <th>SeniorCitizen</th>\n",
       "      <th>tenure</th>\n",
       "      <th>MonthlyCharges</th>\n",
       "    </tr>\n",
       "  </thead>\n",
       "  <tbody>\n",
       "    <tr>\n",
       "      <th>0</th>\n",
       "      <td>0.0</td>\n",
       "      <td>-0.608696</td>\n",
       "      <td>-0.745170</td>\n",
       "    </tr>\n",
       "    <tr>\n",
       "      <th>1</th>\n",
       "      <td>0.0</td>\n",
       "      <td>0.108696</td>\n",
       "      <td>-0.246550</td>\n",
       "    </tr>\n",
       "    <tr>\n",
       "      <th>2</th>\n",
       "      <td>0.0</td>\n",
       "      <td>-0.586957</td>\n",
       "      <td>-0.303588</td>\n",
       "    </tr>\n",
       "  </tbody>\n",
       "</table>\n",
       "</div>"
      ],
      "text/plain": [
       "   SeniorCitizen    tenure  MonthlyCharges\n",
       "0            0.0 -0.608696       -0.745170\n",
       "1            0.0  0.108696       -0.246550\n",
       "2            0.0 -0.586957       -0.303588"
      ]
     },
     "metadata": {},
     "output_type": "display_data"
    }
   ],
   "source": [
    "# Apply Robust Scaling for Numeric Columns\n",
    "numeric_list_lr = [feature for feature in numeric_cols if feature in df_after_corr.columns]\n",
    "scaled_numeric_cols_df = Preprocessor.robust_scaler(data=df_after_corr.loc[:, numeric_list_lr])\n",
    "display(scaled_numeric_cols_df.head(3))"
   ]
  },
  {
   "cell_type": "code",
   "execution_count": 38,
   "metadata": {},
   "outputs": [
    {
     "data": {
      "text/html": [
       "<div>\n",
       "<style scoped>\n",
       "    .dataframe tbody tr th:only-of-type {\n",
       "        vertical-align: middle;\n",
       "    }\n",
       "\n",
       "    .dataframe tbody tr th {\n",
       "        vertical-align: top;\n",
       "    }\n",
       "\n",
       "    .dataframe thead th {\n",
       "        text-align: right;\n",
       "    }\n",
       "</style>\n",
       "<table border=\"1\" class=\"dataframe\">\n",
       "  <thead>\n",
       "    <tr style=\"text-align: right;\">\n",
       "      <th></th>\n",
       "      <th>SeniorCitizen</th>\n",
       "      <th>tenure</th>\n",
       "      <th>MonthlyCharges</th>\n",
       "      <th>Churn</th>\n",
       "      <th>gender_Female</th>\n",
       "      <th>gender_Male</th>\n",
       "      <th>Partner_No</th>\n",
       "      <th>Partner_Yes</th>\n",
       "      <th>Dependents_No</th>\n",
       "      <th>Dependents_Yes</th>\n",
       "      <th>PhoneService_No</th>\n",
       "      <th>PhoneService_Yes</th>\n",
       "      <th>MultipleLines_No</th>\n",
       "      <th>MultipleLines_No phone service</th>\n",
       "      <th>MultipleLines_Yes</th>\n",
       "      <th>OnlineSecurity_No</th>\n",
       "      <th>OnlineSecurity_No internet service</th>\n",
       "      <th>OnlineSecurity_Yes</th>\n",
       "      <th>OnlineBackup_No</th>\n",
       "      <th>OnlineBackup_No internet service</th>\n",
       "      <th>OnlineBackup_Yes</th>\n",
       "      <th>DeviceProtection_No</th>\n",
       "      <th>DeviceProtection_No internet service</th>\n",
       "      <th>DeviceProtection_Yes</th>\n",
       "      <th>TechSupport_No</th>\n",
       "      <th>TechSupport_No internet service</th>\n",
       "      <th>TechSupport_Yes</th>\n",
       "      <th>StreamingTV_No</th>\n",
       "      <th>StreamingTV_No internet service</th>\n",
       "      <th>StreamingTV_Yes</th>\n",
       "      <th>StreamingMovies_No</th>\n",
       "      <th>StreamingMovies_No internet service</th>\n",
       "      <th>StreamingMovies_Yes</th>\n",
       "      <th>PaperlessBilling_No</th>\n",
       "      <th>PaperlessBilling_Yes</th>\n",
       "      <th>InternetService_DSL</th>\n",
       "      <th>InternetService_Fiber optic</th>\n",
       "      <th>InternetService_No</th>\n",
       "      <th>Contract_Month-to-month</th>\n",
       "      <th>Contract_One year</th>\n",
       "      <th>Contract_Two year</th>\n",
       "      <th>PaymentMethod_Bank transfer (automatic)</th>\n",
       "      <th>PaymentMethod_Credit card (automatic)</th>\n",
       "      <th>PaymentMethod_Electronic check</th>\n",
       "      <th>PaymentMethod_Mailed check</th>\n",
       "    </tr>\n",
       "  </thead>\n",
       "  <tbody>\n",
       "    <tr>\n",
       "      <th>0</th>\n",
       "      <td>0.0</td>\n",
       "      <td>-0.608696</td>\n",
       "      <td>-0.745170</td>\n",
       "      <td>0</td>\n",
       "      <td>1</td>\n",
       "      <td>0</td>\n",
       "      <td>0</td>\n",
       "      <td>1</td>\n",
       "      <td>1</td>\n",
       "      <td>0</td>\n",
       "      <td>1</td>\n",
       "      <td>0</td>\n",
       "      <td>0</td>\n",
       "      <td>1</td>\n",
       "      <td>0</td>\n",
       "      <td>1</td>\n",
       "      <td>0</td>\n",
       "      <td>0</td>\n",
       "      <td>0</td>\n",
       "      <td>0</td>\n",
       "      <td>1</td>\n",
       "      <td>1</td>\n",
       "      <td>0</td>\n",
       "      <td>0</td>\n",
       "      <td>1</td>\n",
       "      <td>0</td>\n",
       "      <td>0</td>\n",
       "      <td>1</td>\n",
       "      <td>0</td>\n",
       "      <td>0</td>\n",
       "      <td>1</td>\n",
       "      <td>0</td>\n",
       "      <td>0</td>\n",
       "      <td>0</td>\n",
       "      <td>1</td>\n",
       "      <td>1</td>\n",
       "      <td>0</td>\n",
       "      <td>0</td>\n",
       "      <td>1</td>\n",
       "      <td>0</td>\n",
       "      <td>0</td>\n",
       "      <td>0</td>\n",
       "      <td>0</td>\n",
       "      <td>1</td>\n",
       "      <td>0</td>\n",
       "    </tr>\n",
       "    <tr>\n",
       "      <th>1</th>\n",
       "      <td>0.0</td>\n",
       "      <td>0.108696</td>\n",
       "      <td>-0.246550</td>\n",
       "      <td>0</td>\n",
       "      <td>0</td>\n",
       "      <td>1</td>\n",
       "      <td>1</td>\n",
       "      <td>0</td>\n",
       "      <td>1</td>\n",
       "      <td>0</td>\n",
       "      <td>0</td>\n",
       "      <td>1</td>\n",
       "      <td>1</td>\n",
       "      <td>0</td>\n",
       "      <td>0</td>\n",
       "      <td>0</td>\n",
       "      <td>0</td>\n",
       "      <td>1</td>\n",
       "      <td>1</td>\n",
       "      <td>0</td>\n",
       "      <td>0</td>\n",
       "      <td>0</td>\n",
       "      <td>0</td>\n",
       "      <td>1</td>\n",
       "      <td>1</td>\n",
       "      <td>0</td>\n",
       "      <td>0</td>\n",
       "      <td>1</td>\n",
       "      <td>0</td>\n",
       "      <td>0</td>\n",
       "      <td>1</td>\n",
       "      <td>0</td>\n",
       "      <td>0</td>\n",
       "      <td>1</td>\n",
       "      <td>0</td>\n",
       "      <td>1</td>\n",
       "      <td>0</td>\n",
       "      <td>0</td>\n",
       "      <td>0</td>\n",
       "      <td>1</td>\n",
       "      <td>0</td>\n",
       "      <td>0</td>\n",
       "      <td>0</td>\n",
       "      <td>0</td>\n",
       "      <td>1</td>\n",
       "    </tr>\n",
       "    <tr>\n",
       "      <th>2</th>\n",
       "      <td>0.0</td>\n",
       "      <td>-0.586957</td>\n",
       "      <td>-0.303588</td>\n",
       "      <td>1</td>\n",
       "      <td>0</td>\n",
       "      <td>1</td>\n",
       "      <td>1</td>\n",
       "      <td>0</td>\n",
       "      <td>1</td>\n",
       "      <td>0</td>\n",
       "      <td>0</td>\n",
       "      <td>1</td>\n",
       "      <td>1</td>\n",
       "      <td>0</td>\n",
       "      <td>0</td>\n",
       "      <td>0</td>\n",
       "      <td>0</td>\n",
       "      <td>1</td>\n",
       "      <td>0</td>\n",
       "      <td>0</td>\n",
       "      <td>1</td>\n",
       "      <td>1</td>\n",
       "      <td>0</td>\n",
       "      <td>0</td>\n",
       "      <td>1</td>\n",
       "      <td>0</td>\n",
       "      <td>0</td>\n",
       "      <td>1</td>\n",
       "      <td>0</td>\n",
       "      <td>0</td>\n",
       "      <td>1</td>\n",
       "      <td>0</td>\n",
       "      <td>0</td>\n",
       "      <td>0</td>\n",
       "      <td>1</td>\n",
       "      <td>1</td>\n",
       "      <td>0</td>\n",
       "      <td>0</td>\n",
       "      <td>1</td>\n",
       "      <td>0</td>\n",
       "      <td>0</td>\n",
       "      <td>0</td>\n",
       "      <td>0</td>\n",
       "      <td>0</td>\n",
       "      <td>1</td>\n",
       "    </tr>\n",
       "  </tbody>\n",
       "</table>\n",
       "</div>"
      ],
      "text/plain": [
       "   SeniorCitizen    tenure  MonthlyCharges  Churn  gender_Female  gender_Male  \\\n",
       "0            0.0 -0.608696       -0.745170      0              1            0   \n",
       "1            0.0  0.108696       -0.246550      0              0            1   \n",
       "2            0.0 -0.586957       -0.303588      1              0            1   \n",
       "\n",
       "   Partner_No  Partner_Yes  Dependents_No  Dependents_Yes  PhoneService_No  \\\n",
       "0           0            1              1               0                1   \n",
       "1           1            0              1               0                0   \n",
       "2           1            0              1               0                0   \n",
       "\n",
       "   PhoneService_Yes  MultipleLines_No  MultipleLines_No phone service  \\\n",
       "0                 0                 0                               1   \n",
       "1                 1                 1                               0   \n",
       "2                 1                 1                               0   \n",
       "\n",
       "   MultipleLines_Yes  OnlineSecurity_No  OnlineSecurity_No internet service  \\\n",
       "0                  0                  1                                   0   \n",
       "1                  0                  0                                   0   \n",
       "2                  0                  0                                   0   \n",
       "\n",
       "   OnlineSecurity_Yes  OnlineBackup_No  OnlineBackup_No internet service  \\\n",
       "0                   0                0                                 0   \n",
       "1                   1                1                                 0   \n",
       "2                   1                0                                 0   \n",
       "\n",
       "   OnlineBackup_Yes  DeviceProtection_No  \\\n",
       "0                 1                    1   \n",
       "1                 0                    0   \n",
       "2                 1                    1   \n",
       "\n",
       "   DeviceProtection_No internet service  DeviceProtection_Yes  TechSupport_No  \\\n",
       "0                                     0                     0               1   \n",
       "1                                     0                     1               1   \n",
       "2                                     0                     0               1   \n",
       "\n",
       "   TechSupport_No internet service  TechSupport_Yes  StreamingTV_No  \\\n",
       "0                                0                0               1   \n",
       "1                                0                0               1   \n",
       "2                                0                0               1   \n",
       "\n",
       "   StreamingTV_No internet service  StreamingTV_Yes  StreamingMovies_No  \\\n",
       "0                                0                0                   1   \n",
       "1                                0                0                   1   \n",
       "2                                0                0                   1   \n",
       "\n",
       "   StreamingMovies_No internet service  StreamingMovies_Yes  \\\n",
       "0                                    0                    0   \n",
       "1                                    0                    0   \n",
       "2                                    0                    0   \n",
       "\n",
       "   PaperlessBilling_No  PaperlessBilling_Yes  InternetService_DSL  \\\n",
       "0                    0                     1                    1   \n",
       "1                    1                     0                    1   \n",
       "2                    0                     1                    1   \n",
       "\n",
       "   InternetService_Fiber optic  InternetService_No  Contract_Month-to-month  \\\n",
       "0                            0                   0                        1   \n",
       "1                            0                   0                        0   \n",
       "2                            0                   0                        1   \n",
       "\n",
       "   Contract_One year  Contract_Two year  \\\n",
       "0                  0                  0   \n",
       "1                  1                  0   \n",
       "2                  0                  0   \n",
       "\n",
       "   PaymentMethod_Bank transfer (automatic)  \\\n",
       "0                                        0   \n",
       "1                                        0   \n",
       "2                                        0   \n",
       "\n",
       "   PaymentMethod_Credit card (automatic)  PaymentMethod_Electronic check  \\\n",
       "0                                      0                               1   \n",
       "1                                      0                               0   \n",
       "2                                      0                               0   \n",
       "\n",
       "   PaymentMethod_Mailed check  \n",
       "0                           0  \n",
       "1                           1  \n",
       "2                           1  "
      ]
     },
     "metadata": {},
     "output_type": "display_data"
    }
   ],
   "source": [
    "drop_list_for_scaled = ['SeniorCitizen', 'tenure', 'MonthlyCharges']\n",
    "df_for_concat1 = df_after_corr.drop(columns=drop_list_for_scaled)\n",
    "df_for_logistic_reg = pd.concat([scaled_numeric_cols_df, df_for_concat1], axis=1)\n",
    "display(df_for_logistic_reg.head(3))"
   ]
  },
  {
   "cell_type": "code",
   "execution_count": 39,
   "metadata": {},
   "outputs": [],
   "source": [
    "# Split data for LR\n",
    "y = df_for_logistic_reg['Churn']\n",
    "X = df_for_logistic_reg.drop('Churn', axis=1)\n",
    "\n",
    "X_train_lr, X_test_lr, y_train_lr, y_test_lr = Preprocessor.split_data(X, y)"
   ]
  },
  {
   "cell_type": "code",
   "execution_count": 40,
   "metadata": {},
   "outputs": [
    {
     "name": "stdout",
     "output_type": "stream",
     "text": [
      "Cross Validation Score :  84.21%\n",
      "ROC_AUC Score :  72.31%\n",
      "Gini Score :  44.62%\n",
      "              precision    recall  f1-score   support\n",
      "\n",
      "           0       0.85      0.89      0.87      1035\n",
      "           1       0.65      0.55      0.60       374\n",
      "\n",
      "    accuracy                           0.80      1409\n",
      "   macro avg       0.75      0.72      0.73      1409\n",
      "weighted avg       0.79      0.80      0.80      1409\n",
      "\n"
     ]
    },
    {
     "data": {
      "image/png": "[encoded data removed]",
      "text/plain": [
       "<Figure size 432x288 with 2 Axes>"
      ]
     },
     "metadata": {
      "needs_background": "light"
     },
     "output_type": "display_data"
    }
   ],
   "source": [
    "LR = LogisticRegression()\n",
    "\n",
    "ModelTrainer(LR, X_train_lr,y_train_lr, X_test_lr,y_test_lr)\n",
    "ModelEvaluator(LR, X_test_lr, y_test_lr)"
   ]
  },
  {
   "cell_type": "markdown",
   "metadata": {},
   "source": [
    "### Result of the Models"
   ]
  },
  {
   "cell_type": "markdown",
   "metadata": {},
   "source": [
    "According to Cross Validation Scores: \n",
    "\n",
    "Default XGB: 82.15% \n",
    "XGB with Optuna: 84.78% \n",
    "\n",
    "Default Random Forest: 82.09%\n",
    "Random Forest with GridSearch: 84.55%\n",
    "\n",
    "Default Logistic: 84.28%\n",
    "Logistic with Corr Elimination & Scaling: 84.21% "
   ]
  }
 ],
 "metadata": {
  "kernelspec": {
   "display_name": "Python 3",
   "language": "python",
   "name": "python3"
  },
  "language_info": {
   "codemirror_mode": {
    "name": "ipython",
    "version": 3
   },
   "file_extension": ".py",
   "mimetype": "text/x-python",
   "name": "python",
   "nbconvert_exporter": "python",
   "pygments_lexer": "ipython3",
   "version": "3.10.0"
  }
 },
 "nbformat": 4,
 "nbformat_minor": 2
}
